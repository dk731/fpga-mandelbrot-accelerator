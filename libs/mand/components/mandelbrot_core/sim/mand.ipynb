{
 "cells": [
  {
   "cell_type": "code",
   "execution_count": 1,
   "metadata": {},
   "outputs": [],
   "source": [
    "import numpy as np\n",
    "import matplotlib.pyplot as plt\n",
    "\n",
    "import mand"
   ]
  },
  {
   "cell_type": "code",
   "execution_count": 87,
   "metadata": {},
   "outputs": [],
   "source": [
    "# frame parameters\n",
    "WIDTH = 100\n",
    "ASPECT_RATIO = 4 / 3\n",
    "MAND_WIDTH = 3.4\n",
    "MAX_ITTERATIONS = 100\n",
    "\n",
    "HEIGHT = round(WIDTH / ASPECT_RATIO)\n",
    "MAND_HEIGHT = MAND_WIDTH / ASPECT_RATIO\n",
    "\n",
    "START_X = -0.65 - MAND_WIDTH / 2\n",
    "START_Y = 0 + MAND_HEIGHT / 2"
   ]
  },
  {
   "cell_type": "code",
   "execution_count": 88,
   "metadata": {},
   "outputs": [
    {
     "data": {
      "image/png": "[encoded data removed]",
      "text/plain": [
       "<Figure size 640x480 with 1 Axes>"
      ]
     },
     "metadata": {},
     "output_type": "display_data"
    }
   ],
   "source": [
    "\n",
    "final_image = np.zeros((HEIGHT, WIDTH, 3), dtype=np.uint8)\n",
    "\n",
    "for row in range(HEIGHT):\n",
    "    for col in range(WIDTH):\n",
    "        x = START_X + col * MAND_WIDTH / WIDTH\n",
    "        y = START_Y - row * MAND_HEIGHT / HEIGHT\n",
    "\n",
    "        itterations = mand.calculate_mandelbrot(x, y, MAX_ITTERATIONS)\n",
    "        final_image[row, col] = (1 - np.array([itterations, itterations, itterations])) * 255\n",
    "\n",
    "plt.imshow(final_image)\n",
    "plt.axis('off')\n",
    "plt.show()\n"
   ]
  },
  {
   "cell_type": "code",
   "execution_count": 56,
   "metadata": {},
   "outputs": [
    {
     "data": {
      "text/plain": [
       "4.533333333333333"
      ]
     },
     "execution_count": 56,
     "metadata": {},
     "output_type": "execute_result"
    }
   ],
   "source": [
    "MAND_HEIGHT"
   ]
  },
  {
   "cell_type": "code",
   "execution_count": null,
   "metadata": {},
   "outputs": [],
   "source": []
  }
 ],
 "metadata": {
  "kernelspec": {
   "display_name": "Python 3",
   "language": "python",
   "name": "python3"
  },
  "language_info": {
   "codemirror_mode": {
    "name": "ipython",
    "version": 3
   },
   "file_extension": ".py",
   "mimetype": "text/x-python",
   "name": "python",
   "nbconvert_exporter": "python",
   "pygments_lexer": "ipython3",
   "version": "3.11.9"
  }
 },
 "nbformat": 4,
 "nbformat_minor": 2
}
